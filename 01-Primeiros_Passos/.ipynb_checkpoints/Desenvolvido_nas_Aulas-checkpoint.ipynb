{
 "cells": [
  {
   "cell_type": "markdown",
   "metadata": {
    "id": "qykoO5OSy07O"
   },
   "source": [
    "# Lógica de programação com Python"
   ]
  },
  {
   "cell_type": "markdown",
   "metadata": {
    "id": "e6Qxe5shfGpT"
   },
   "source": [
    "##Apresentação"
   ]
  },
  {
   "cell_type": "code",
   "execution_count": null,
   "metadata": {
    "id": "KtL4gc9vZ5Zt"
   },
   "outputs": [],
   "source": [
    "nome = 'Jefferson'\n",
    "idade = 31"
   ]
  },
  {
   "cell_type": "code",
   "execution_count": null,
   "metadata": {
    "colab": {
     "base_uri": "https://localhost:8080/"
    },
    "executionInfo": {
     "elapsed": 506,
     "status": "ok",
     "timestamp": 1622346848165,
     "user": {
      "displayName": "Jefferson Oliveira",
      "photoUrl": "https://lh3.googleusercontent.com/a-/AOh14GiUoyrdIiH6MSOFFXrwM38RWKGdzLhmgbB6CNj2R00=s64",
      "userId": "17886330234675100730"
     },
     "user_tz": 180
    },
    "id": "ZXmObjc50Qe8",
    "outputId": "dca86584-15be-41a5-947c-fc5e0f3ffc57"
   },
   "outputs": [
    {
     "name": "stdout",
     "output_type": "stream",
     "text": [
      "O nome é Jefferson e sua idade é 31 anos.\n"
     ]
    }
   ],
   "source": [
    "print(f'O nome é {nome} e sua idade é {idade} anos.')"
   ]
  },
  {
   "cell_type": "markdown",
   "metadata": {
    "id": "LSAekw7l_OiS"
   },
   "source": [
    "## Criando minha primeira função"
   ]
  },
  {
   "cell_type": "code",
   "execution_count": null,
   "metadata": {
    "id": "436zJkir_SjS"
   },
   "outputs": [],
   "source": [
    "def saudacao():\n",
    "  nome = input('Qual é o seu nome? ')\n",
    "  print(f'Olá {nome}') "
   ]
  },
  {
   "cell_type": "code",
   "execution_count": null,
   "metadata": {
    "colab": {
     "base_uri": "https://localhost:8080/"
    },
    "executionInfo": {
     "elapsed": 6137,
     "status": "ok",
     "timestamp": 1622346854283,
     "user": {
      "displayName": "Jefferson Oliveira",
      "photoUrl": "https://lh3.googleusercontent.com/a-/AOh14GiUoyrdIiH6MSOFFXrwM38RWKGdzLhmgbB6CNj2R00=s64",
      "userId": "17886330234675100730"
     },
     "user_tz": 180
    },
    "id": "3fijU6z5AVxi",
    "outputId": "550f4b94-863c-41f8-bf2b-d9bcdc3908f2"
   },
   "outputs": [
    {
     "name": "stdout",
     "output_type": "stream",
     "text": [
      "Qual é o seu nome? Jeff\n",
      "Olá Jeff\n"
     ]
    }
   ],
   "source": [
    "saudacao()"
   ]
  },
  {
   "cell_type": "markdown",
   "metadata": {
    "id": "pGHbGnc7BDUv"
   },
   "source": [
    "##Parâmetros:"
   ]
  },
  {
   "cell_type": "code",
   "execution_count": null,
   "metadata": {
    "id": "aHDnob08AiQA"
   },
   "outputs": [],
   "source": [
    "nome = 'Jefferson'"
   ]
  },
  {
   "cell_type": "code",
   "execution_count": null,
   "metadata": {
    "id": "PqVvpv4qAGHv"
   },
   "outputs": [],
   "source": [
    "def saudacao_com_parametro(nome_da_pessoa):\n",
    "    print(f'Olá {nome_da_pessoa}, tudo bem?')\n",
    "    return "
   ]
  },
  {
   "cell_type": "code",
   "execution_count": null,
   "metadata": {
    "colab": {
     "base_uri": "https://localhost:8080/"
    },
    "executionInfo": {
     "elapsed": 21,
     "status": "ok",
     "timestamp": 1622346854288,
     "user": {
      "displayName": "Jefferson Oliveira",
      "photoUrl": "https://lh3.googleusercontent.com/a-/AOh14GiUoyrdIiH6MSOFFXrwM38RWKGdzLhmgbB6CNj2R00=s64",
      "userId": "17886330234675100730"
     },
     "user_tz": 180
    },
    "id": "TJU0-7i_AyLU",
    "outputId": "5870e74a-7320-407d-bb5d-08a4ca582400"
   },
   "outputs": [
    {
     "name": "stdout",
     "output_type": "stream",
     "text": [
      "Olá Jefferson, tudo bem?\n"
     ]
    }
   ],
   "source": [
    "saudacao_com_parametro(nome)"
   ]
  },
  {
   "cell_type": "markdown",
   "metadata": {
    "id": "tFwRJ-lABIM-"
   },
   "source": [
    "##Condicional:"
   ]
  },
  {
   "cell_type": "markdown",
   "metadata": {
    "id": "mdCInPCEGKDf"
   },
   "source": [
    "#### Realizando passagem de parametros:"
   ]
  },
  {
   "cell_type": "code",
   "execution_count": null,
   "metadata": {
    "colab": {
     "base_uri": "https://localhost:8080/"
    },
    "executionInfo": {
     "elapsed": 17,
     "status": "ok",
     "timestamp": 1622346854289,
     "user": {
      "displayName": "Jefferson Oliveira",
      "photoUrl": "https://lh3.googleusercontent.com/a-/AOh14GiUoyrdIiH6MSOFFXrwM38RWKGdzLhmgbB6CNj2R00=s64",
      "userId": "17886330234675100730"
     },
     "user_tz": 180
    },
    "id": "JJlXReEqA1ij",
    "outputId": "81b6c0e4-3c69-43c5-bb5c-4e74b1b3a188"
   },
   "outputs": [
    {
     "name": "stdout",
     "output_type": "stream",
     "text": [
      "Não tem permissão para dirigir!\n"
     ]
    }
   ],
   "source": [
    "idade = 20\n",
    "\n",
    "def verifica_se_pode_dirigir(idade):\n",
    "  if (idade >= 18):  # Eu posso deixar a condição desse if também sem os parenteses, pois o python permite essa sintaxe\n",
    "    print(\"Tem permissão para dirigir\")\n",
    "  else:\n",
    "    print(\"Não tem permissão para dirigir!\")\n",
    "\n",
    "verifica_se_pode_dirigir(6)"
   ]
  },
  {
   "cell_type": "markdown",
   "metadata": {
    "id": "YG8uLJ3TGN3K"
   },
   "source": [
    "#### Sem realizar passagem de parametros:"
   ]
  },
  {
   "cell_type": "code",
   "execution_count": null,
   "metadata": {
    "colab": {
     "base_uri": "https://localhost:8080/"
    },
    "executionInfo": {
     "elapsed": 4881,
     "status": "ok",
     "timestamp": 1622347005426,
     "user": {
      "displayName": "Jefferson Oliveira",
      "photoUrl": "https://lh3.googleusercontent.com/a-/AOh14GiUoyrdIiH6MSOFFXrwM38RWKGdzLhmgbB6CNj2R00=s64",
      "userId": "17886330234675100730"
     },
     "user_tz": 180
    },
    "id": "1ThnrGimBgGX",
    "outputId": "af11f5f4-5c72-404b-9d98-951898f14755"
   },
   "outputs": [
    {
     "name": "stdout",
     "output_type": "stream",
     "text": [
      "Digite a sua idade: 19\n",
      "Tem permissão para dirigir\n"
     ]
    }
   ],
   "source": [
    "def verifica_se_pode_dirigir_sem_parametros():\n",
    "  idade = int(input(\"Digite a sua idade: \"))\n",
    "  if (idade >= 18):  # Eu posso deixar a condição desse if também sem os parenteses, pois o python permite essa sintaxe\n",
    "    print(\"Tem permissão para dirigir\")\n",
    "  else:\n",
    "    print(\"Não tem permissão para dirigir!\")\n",
    "\n",
    "verifica_se_pode_dirigir_sem_parametros()\n"
   ]
  },
  {
   "cell_type": "markdown",
   "metadata": {
    "id": "Hqo7nB7vG3V5"
   },
   "source": [
    "#### Questão dentro da aula: Escrever uma função para calcular a velocidade média, onde a função recebe o espaço e o tempo por parametro. Faz o cálculo e imprime a solução da operação."
   ]
  },
  {
   "cell_type": "code",
   "execution_count": null,
   "metadata": {
    "colab": {
     "base_uri": "https://localhost:8080/"
    },
    "executionInfo": {
     "elapsed": 357,
     "status": "ok",
     "timestamp": 1622347018872,
     "user": {
      "displayName": "Jefferson Oliveira",
      "photoUrl": "https://lh3.googleusercontent.com/a-/AOh14GiUoyrdIiH6MSOFFXrwM38RWKGdzLhmgbB6CNj2R00=s64",
      "userId": "17886330234675100730"
     },
     "user_tz": 180
    },
    "id": "kDaDkdv_CYUW",
    "outputId": "43cccc17-d3c8-4cb6-caa3-6fce78f74f72"
   },
   "outputs": [
    {
     "name": "stdout",
     "output_type": "stream",
     "text": [
      "Variáveis de entrada:\n",
      " A distância percorrida foi de 100 m\n",
      " O tempo gasto foi de 20 s\n",
      "A velocidade média é: 5.0 m/s\n"
     ]
    }
   ],
   "source": [
    "def calcula_velocidade_media(espaco, tempo):\n",
    "  velocidade_media = espaco / tempo\n",
    "  print(f\"Variáveis de entrada:\" )\n",
    "  print(f\" A distância percorrida foi de {espaco} m\")\n",
    "  print(f\" O tempo gasto foi de {tempo} s\")\n",
    "  print (f\"A velocidade média é: {velocidade_media} m/s\") \n",
    "\n",
    "calcula_velocidade_media(100,20)"
   ]
  },
  {
   "cell_type": "markdown",
   "metadata": {
    "id": "KT-83NsSKe7E"
   },
   "source": [
    "#### Operadores de comparação em python:\n",
    " \n",
    "Operador    Descrição\n",
    " \n",
    "a == b  a igual a b\n",
    " \n",
    "a != b  a diferente de b\n",
    " \n",
    "a < b   a menor do que b\n",
    " \n",
    "a > b   a maior do que b\n",
    " \n",
    "a <= b  a menor ou igual a b\n",
    " \n",
    "a >= b  a maior ou igual a b"
   ]
  },
  {
   "cell_type": "markdown",
   "metadata": {
    "id": "y7zjRb9XMmbr"
   },
   "source": [
    "## Listas"
   ]
  },
  {
   "cell_type": "code",
   "execution_count": null,
   "metadata": {
    "colab": {
     "base_uri": "https://localhost:8080/"
    },
    "executionInfo": {
     "elapsed": 371,
     "status": "ok",
     "timestamp": 1622347026531,
     "user": {
      "displayName": "Jefferson Oliveira",
      "photoUrl": "https://lh3.googleusercontent.com/a-/AOh14GiUoyrdIiH6MSOFFXrwM38RWKGdzLhmgbB6CNj2R00=s64",
      "userId": "17886330234675100730"
     },
     "user_tz": 180
    },
    "id": "fFyNmIKCNQTR",
    "outputId": "73b09436-cbcb-427b-a522-22df471beebe"
   },
   "outputs": [
    {
     "data": {
      "text/plain": [
       "22"
      ]
     },
     "execution_count": 102,
     "metadata": {
      "tags": []
     },
     "output_type": "execute_result"
    }
   ],
   "source": [
    "idade = 22\n",
    "idade"
   ]
  },
  {
   "cell_type": "code",
   "execution_count": null,
   "metadata": {
    "colab": {
     "base_uri": "https://localhost:8080/"
    },
    "executionInfo": {
     "elapsed": 25,
     "status": "ok",
     "timestamp": 1622347027163,
     "user": {
      "displayName": "Jefferson Oliveira",
      "photoUrl": "https://lh3.googleusercontent.com/a-/AOh14GiUoyrdIiH6MSOFFXrwM38RWKGdzLhmgbB6CNj2R00=s64",
      "userId": "17886330234675100730"
     },
     "user_tz": 180
    },
    "id": "Ruv1I8IyM2_A",
    "outputId": "dff9dcf5-c4e7-4c46-c356-f6b429af8a6e"
   },
   "outputs": [
    {
     "data": {
      "text/plain": [
       "int"
      ]
     },
     "execution_count": 103,
     "metadata": {
      "tags": []
     },
     "output_type": "execute_result"
    }
   ],
   "source": [
    "type(idade)"
   ]
  },
  {
   "cell_type": "code",
   "execution_count": null,
   "metadata": {
    "colab": {
     "base_uri": "https://localhost:8080/"
    },
    "executionInfo": {
     "elapsed": 23,
     "status": "ok",
     "timestamp": 1622347027164,
     "user": {
      "displayName": "Jefferson Oliveira",
      "photoUrl": "https://lh3.googleusercontent.com/a-/AOh14GiUoyrdIiH6MSOFFXrwM38RWKGdzLhmgbB6CNj2R00=s64",
      "userId": "17886330234675100730"
     },
     "user_tz": 180
    },
    "id": "k9gOWcDpNUkH",
    "outputId": "a4b62728-dd30-466a-cd20-22683bfc3c4f"
   },
   "outputs": [
    {
     "data": {
      "text/plain": [
       "str"
      ]
     },
     "execution_count": 104,
     "metadata": {
      "tags": []
     },
     "output_type": "execute_result"
    }
   ],
   "source": [
    "nome = 'Jefferson'\n",
    "type(nome)"
   ]
  },
  {
   "cell_type": "code",
   "execution_count": null,
   "metadata": {
    "colab": {
     "base_uri": "https://localhost:8080/"
    },
    "executionInfo": {
     "elapsed": 22,
     "status": "ok",
     "timestamp": 1622347027165,
     "user": {
      "displayName": "Jefferson Oliveira",
      "photoUrl": "https://lh3.googleusercontent.com/a-/AOh14GiUoyrdIiH6MSOFFXrwM38RWKGdzLhmgbB6CNj2R00=s64",
      "userId": "17886330234675100730"
     },
     "user_tz": 180
    },
    "id": "bVJhpry_NXFV",
    "outputId": "47c9eb67-3f0b-4ee0-b314-e24482232f5e"
   },
   "outputs": [
    {
     "data": {
      "text/plain": [
       "list"
      ]
     },
     "execution_count": 105,
     "metadata": {
      "tags": []
     },
     "output_type": "execute_result"
    }
   ],
   "source": [
    "idades = [18,22,15,50]\n",
    "type(idades)"
   ]
  },
  {
   "cell_type": "code",
   "execution_count": null,
   "metadata": {
    "colab": {
     "base_uri": "https://localhost:8080/"
    },
    "executionInfo": {
     "elapsed": 19,
     "status": "ok",
     "timestamp": 1622347027165,
     "user": {
      "displayName": "Jefferson Oliveira",
      "photoUrl": "https://lh3.googleusercontent.com/a-/AOh14GiUoyrdIiH6MSOFFXrwM38RWKGdzLhmgbB6CNj2R00=s64",
      "userId": "17886330234675100730"
     },
     "user_tz": 180
    },
    "id": "p9CQj7liNeUV",
    "outputId": "de714bba-1a92-4881-b8ec-9a21533df4ad"
   },
   "outputs": [
    {
     "data": {
      "text/plain": [
       "15"
      ]
     },
     "execution_count": 106,
     "metadata": {
      "tags": []
     },
     "output_type": "execute_result"
    }
   ],
   "source": [
    "idades[2]"
   ]
  },
  {
   "cell_type": "markdown",
   "metadata": {
    "id": "BAV1PPXqNp4e"
   },
   "source": [
    "\n",
    "\n",
    "```\n",
    "idades = [18,22,15,50]\n",
    "#         0   1  2  3\n",
    "#         0  -3 -2 -1 \n",
    "```\n",
    "\n"
   ]
  },
  {
   "cell_type": "code",
   "execution_count": null,
   "metadata": {
    "colab": {
     "base_uri": "https://localhost:8080/"
    },
    "executionInfo": {
     "elapsed": 18,
     "status": "ok",
     "timestamp": 1622347027166,
     "user": {
      "displayName": "Jefferson Oliveira",
      "photoUrl": "https://lh3.googleusercontent.com/a-/AOh14GiUoyrdIiH6MSOFFXrwM38RWKGdzLhmgbB6CNj2R00=s64",
      "userId": "17886330234675100730"
     },
     "user_tz": 180
    },
    "id": "M_PQxTTLNl5l",
    "outputId": "8eccbe8f-8aa5-416a-e016-ece7c89d401c"
   },
   "outputs": [
    {
     "data": {
      "text/plain": [
       "22"
      ]
     },
     "execution_count": 107,
     "metadata": {
      "tags": []
     },
     "output_type": "execute_result"
    }
   ],
   "source": [
    "idades[1]"
   ]
  },
  {
   "cell_type": "code",
   "execution_count": null,
   "metadata": {
    "colab": {
     "base_uri": "https://localhost:8080/"
    },
    "executionInfo": {
     "elapsed": 18,
     "status": "ok",
     "timestamp": 1622347027167,
     "user": {
      "displayName": "Jefferson Oliveira",
      "photoUrl": "https://lh3.googleusercontent.com/a-/AOh14GiUoyrdIiH6MSOFFXrwM38RWKGdzLhmgbB6CNj2R00=s64",
      "userId": "17886330234675100730"
     },
     "user_tz": 180
    },
    "id": "d-yDWuuoN20X",
    "outputId": "bdc7c357-5a20-4edf-a9c8-0bd97646f98e"
   },
   "outputs": [
    {
     "data": {
      "text/plain": [
       "[18, 22, 15]"
      ]
     },
     "execution_count": 108,
     "metadata": {
      "tags": []
     },
     "output_type": "execute_result"
    }
   ],
   "source": [
    "idades[0:3]"
   ]
  },
  {
   "cell_type": "code",
   "execution_count": null,
   "metadata": {
    "colab": {
     "base_uri": "https://localhost:8080/"
    },
    "executionInfo": {
     "elapsed": 15,
     "status": "ok",
     "timestamp": 1622347027167,
     "user": {
      "displayName": "Jefferson Oliveira",
      "photoUrl": "https://lh3.googleusercontent.com/a-/AOh14GiUoyrdIiH6MSOFFXrwM38RWKGdzLhmgbB6CNj2R00=s64",
      "userId": "17886330234675100730"
     },
     "user_tz": 180
    },
    "id": "F8FESsnvN9XF",
    "outputId": "58490829-ea7b-4ef2-9cd2-ea37f6004377"
   },
   "outputs": [
    {
     "data": {
      "text/plain": [
       "[22, 15, 50]"
      ]
     },
     "execution_count": 109,
     "metadata": {
      "tags": []
     },
     "output_type": "execute_result"
    }
   ],
   "source": [
    "idades[1:]"
   ]
  },
  {
   "cell_type": "code",
   "execution_count": null,
   "metadata": {
    "colab": {
     "base_uri": "https://localhost:8080/"
    },
    "executionInfo": {
     "elapsed": 14,
     "status": "ok",
     "timestamp": 1622347027168,
     "user": {
      "displayName": "Jefferson Oliveira",
      "photoUrl": "https://lh3.googleusercontent.com/a-/AOh14GiUoyrdIiH6MSOFFXrwM38RWKGdzLhmgbB6CNj2R00=s64",
      "userId": "17886330234675100730"
     },
     "user_tz": 180
    },
    "id": "INCoeu2rN_Rk",
    "outputId": "dd1268c2-592e-484c-da37-8afab40de6be"
   },
   "outputs": [
    {
     "data": {
      "text/plain": [
       "50"
      ]
     },
     "execution_count": 110,
     "metadata": {
      "tags": []
     },
     "output_type": "execute_result"
    }
   ],
   "source": [
    "idades[-1]"
   ]
  },
  {
   "cell_type": "code",
   "execution_count": null,
   "metadata": {
    "colab": {
     "base_uri": "https://localhost:8080/"
    },
    "executionInfo": {
     "elapsed": 12,
     "status": "ok",
     "timestamp": 1622347027168,
     "user": {
      "displayName": "Jefferson Oliveira",
      "photoUrl": "https://lh3.googleusercontent.com/a-/AOh14GiUoyrdIiH6MSOFFXrwM38RWKGdzLhmgbB6CNj2R00=s64",
      "userId": "17886330234675100730"
     },
     "user_tz": 180
    },
    "id": "B_-5dJJQOCsF",
    "outputId": "fd75a0ff-bce2-4eae-d1d6-2463be42602c"
   },
   "outputs": [
    {
     "data": {
      "text/plain": [
       "15"
      ]
     },
     "execution_count": 111,
     "metadata": {
      "tags": []
     },
     "output_type": "execute_result"
    }
   ],
   "source": [
    "idades[-2]"
   ]
  },
  {
   "cell_type": "code",
   "execution_count": null,
   "metadata": {
    "colab": {
     "base_uri": "https://localhost:8080/"
    },
    "executionInfo": {
     "elapsed": 12,
     "status": "ok",
     "timestamp": 1622347027169,
     "user": {
      "displayName": "Jefferson Oliveira",
      "photoUrl": "https://lh3.googleusercontent.com/a-/AOh14GiUoyrdIiH6MSOFFXrwM38RWKGdzLhmgbB6CNj2R00=s64",
      "userId": "17886330234675100730"
     },
     "user_tz": 180
    },
    "id": "n7pJlAs3OGH1",
    "outputId": "69ab811a-1b23-43af-f9cf-d49b9e7c68a8"
   },
   "outputs": [
    {
     "data": {
      "text/plain": [
       "[18, 22, 15, 50]"
      ]
     },
     "execution_count": 112,
     "metadata": {
      "tags": []
     },
     "output_type": "execute_result"
    }
   ],
   "source": [
    "idades"
   ]
  },
  {
   "cell_type": "markdown",
   "metadata": {
    "id": "Xck2LOAbON3H"
   },
   "source": [
    "##Laços e loops:"
   ]
  },
  {
   "cell_type": "code",
   "execution_count": null,
   "metadata": {
    "id": "7mujFE0bOLZ9"
   },
   "outputs": [],
   "source": [
    "# for fora da função. Nesse caso as idades são passadas uma a uma quando o for é iterado fora da função \"verifica_se_pode_dirigir\"\n",
    "\n",
    "def verifica_se_pode_dirigir(idade):\n",
    "  if (idade >= 18):  # Eu posso deixar a condição desse if também sem os parenteses, pois o python permite essa sintaxe\n",
    "    print(f\"{idade} anos de idade, TEM permissão para dirigir\")\n",
    "  else:\n",
    "    print(f\"{idade} anos de idade, NÃO TEM permissão para dirigir\")\n",
    "\n",
    "for idade in idades:\n",
    "  verifica_se_pode_dirigir(idade)"
   ]
  },
  {
   "cell_type": "code",
   "execution_count": null,
   "metadata": {
    "id": "7lGZ3EcKPj9G"
   },
   "outputs": [],
   "source": [
    "# for dentro da função. Nesse caso a lista de idade é passada para a função \"verifica_se_pode_dirigir\" e dentro desta função temo so for:\n",
    "\n",
    "def verifica_se_pode_dirigir(idades):\n",
    "  for idade in idades:\n",
    "    if (idade >= 18):  # Eu posso deixar a condição desse if também sem os parenteses, pois o python permite essa sintaxe\n",
    "      print(f\"{idade} anos de idade, TEM permissão para dirigir\")\n",
    "    else:\n",
    "      print(f\"{idade} anos de idade, NÃO TEM permissão para dirigir\")\n",
    "\n",
    "verifica_se_pode_dirigir(idades)"
   ]
  },
  {
   "cell_type": "markdown",
   "metadata": {
    "id": "fipLM9B4QQLm"
   },
   "source": [
    "##Boleano"
   ]
  },
  {
   "cell_type": "code",
   "execution_count": null,
   "metadata": {
    "id": "aFJZoORpO56k"
   },
   "outputs": [],
   "source": [
    "  idade = 18\n",
    "  idade >= 18"
   ]
  },
  {
   "cell_type": "code",
   "execution_count": null,
   "metadata": {
    "id": "gTOgRPR1QXnK"
   },
   "outputs": [],
   "source": [
    "idade = 14\n",
    "idade >= 18"
   ]
  },
  {
   "cell_type": "code",
   "execution_count": null,
   "metadata": {
    "id": "S9oOHBj7Qa0-"
   },
   "outputs": [],
   "source": [
    "permissoes = []\n",
    "idades = [20,14,40]\n",
    "\n",
    "def verifica_se_pode_dirigir(idades, permissoes):\n",
    "  for idade in idades:\n",
    "    if (idade >= 18):  # Eu posso deixar a condição desse if também sem os parenteses, pois o python permite essa sintaxe\n",
    "      permissoes.append(True)\n",
    "    else:\n",
    "      permissoes.append(False)\n",
    "\n",
    "verifica_se_pode_dirigir(idades, permissoes)\n",
    "permissoes"
   ]
  },
  {
   "cell_type": "code",
   "execution_count": null,
   "metadata": {
    "id": "XcTNbyz_Qc27"
   },
   "outputs": [],
   "source": [
    "for permissao in permissoes:\n",
    "  if permissao == True:\n",
    "    print(\"Tem permissão para dirigir\")\n",
    "  else:\n",
    "    print(\"Não tem permissão para dirigir\")"
   ]
  },
  {
   "cell_type": "code",
   "execution_count": null,
   "metadata": {
    "id": "P-rAPE3kRjCS"
   },
   "outputs": [],
   "source": [
    "frase_alura = [' Digitais', 'e ', 'Negócios ', 'de ', 'Tecnologia ', 'Cursos ']\n",
    "#6 3 5 1 2 0 \n",
    "#print(f'{frase_alura[5]} {frase_alura[3]} {frase_alura[4]} {frase_alura[1]} {frase_alura[2]} {frase_alura[0]}')\n",
    "frase_alura[5] + frase_alura[3] +  frase_alura[4] +  frase_alura[1] +  frase_alura[2] +  frase_alura[0]"
   ]
  },
  {
   "cell_type": "markdown",
   "metadata": {
    "id": "ksAiqFilPTBf"
   },
   "source": [
    "##Float"
   ]
  },
  {
   "cell_type": "code",
   "execution_count": null,
   "metadata": {
    "id": "Lm-mp8jTLm6I"
   },
   "outputs": [],
   "source": [
    "pi = 3.14\n",
    "type(pi)"
   ]
  },
  {
   "cell_type": "markdown",
   "metadata": {
    "id": "RKs9URpCP62d"
   },
   "source": [
    "O que aprendemos?\n",
    "\n",
    "Nesta aula:\n",
    "\n",
    "1. Criamos nossa primeira lista no Python;\n",
    "\n",
    "2. Aprendemos a utilizar a estrutura de repetição for;\n",
    "\n",
    "3. Descobrimos o tipo booleano.\n"
   ]
  },
  {
   "cell_type": "markdown",
   "metadata": {
    "id": "zbt7UbdJQR_6"
   },
   "source": [
    "##Tipos em uma lista:"
   ]
  },
  {
   "cell_type": "code",
   "execution_count": null,
   "metadata": {
    "colab": {
     "base_uri": "https://localhost:8080/"
    },
    "executionInfo": {
     "elapsed": 1069,
     "status": "ok",
     "timestamp": 1622348056634,
     "user": {
      "displayName": "Jefferson Oliveira",
      "photoUrl": "https://lh3.googleusercontent.com/a-/AOh14GiUoyrdIiH6MSOFFXrwM38RWKGdzLhmgbB6CNj2R00=s64",
      "userId": "17886330234675100730"
     },
     "user_tz": 180
    },
    "id": "7vG0aydxPXS2",
    "outputId": "9a318411-e344-4412-a2ca-47b2271066dc"
   },
   "outputs": [
    {
     "name": "stdout",
     "output_type": "stream",
     "text": [
      "O elemento Jefferson é do tipo <class 'str'>\n",
      "O elemento 31 é do tipo <class 'int'>\n",
      "O elemento True é do tipo <class 'bool'>\n",
      "O elemento 18 é do tipo <class 'str'>\n"
     ]
    }
   ],
   "source": [
    "lista = ['Jefferson', 31, True, '18']\n",
    "\n",
    "for elemento in lista:\n",
    "  print('O elemento {} é do tipo {}'.format(elemento, type(elemento)) )"
   ]
  },
  {
   "cell_type": "markdown",
   "metadata": {
    "id": "rpM-ldUpRQgJ"
   },
   "source": [
    "Criar notas para um aluno de forma aleatório"
   ]
  },
  {
   "cell_type": "code",
   "execution_count": null,
   "metadata": {
    "colab": {
     "base_uri": "https://localhost:8080/"
    },
    "executionInfo": {
     "elapsed": 29,
     "status": "ok",
     "timestamp": 1622348056637,
     "user": {
      "displayName": "Jefferson Oliveira",
      "photoUrl": "https://lh3.googleusercontent.com/a-/AOh14GiUoyrdIiH6MSOFFXrwM38RWKGdzLhmgbB6CNj2R00=s64",
      "userId": "17886330234675100730"
     },
     "user_tz": 180
    },
    "id": "IJ3KbHeUR0z1",
    "outputId": "c33e30df-aa27-4d34-b990-2a0265a685f5"
   },
   "outputs": [
    {
     "data": {
      "text/plain": [
       "8.3"
      ]
     },
     "execution_count": 137,
     "metadata": {
      "tags": []
     },
     "output_type": "execute_result"
    }
   ],
   "source": [
    "import random as rd\n",
    "\n",
    "rd.randrange(100) / 10"
   ]
  },
  {
   "cell_type": "code",
   "execution_count": null,
   "metadata": {
    "colab": {
     "base_uri": "https://localhost:8080/"
    },
    "executionInfo": {
     "elapsed": 23,
     "status": "ok",
     "timestamp": 1622348056640,
     "user": {
      "displayName": "Jefferson Oliveira",
      "photoUrl": "https://lh3.googleusercontent.com/a-/AOh14GiUoyrdIiH6MSOFFXrwM38RWKGdzLhmgbB6CNj2R00=s64",
      "userId": "17886330234675100730"
     },
     "user_tz": 180
    },
    "id": "EEKOoEK2Qn52",
    "outputId": "ead065f6-83f0-4672-9981-5a4597ecd6b5"
   },
   "outputs": [
    {
     "name": "stdout",
     "output_type": "stream",
     "text": [
      "As notas do aluno são:\n",
      "[2.0, 7.9, 0.1, 6.7]\n"
     ]
    }
   ],
   "source": [
    "# resolução Jefferson\n",
    "import random as rd\n",
    "\n",
    "notas_do_aluno = []\n",
    "\n",
    "for index in range(4):\n",
    "  notas_do_aluno.append(rd.randrange(0,101) / 10)\n",
    "  #notas_do_aluno.append(rd.randrange(100) / 10)\n",
    "\n",
    "print(\"As notas do aluno são:\")\n",
    "print(notas_do_aluno)"
   ]
  },
  {
   "cell_type": "code",
   "execution_count": null,
   "metadata": {
    "colab": {
     "base_uri": "https://localhost:8080/"
    },
    "executionInfo": {
     "elapsed": 20,
     "status": "ok",
     "timestamp": 1622348056642,
     "user": {
      "displayName": "Jefferson Oliveira",
      "photoUrl": "https://lh3.googleusercontent.com/a-/AOh14GiUoyrdIiH6MSOFFXrwM38RWKGdzLhmgbB6CNj2R00=s64",
      "userId": "17886330234675100730"
     },
     "user_tz": 180
    },
    "id": "swHqITAsUQhJ",
    "outputId": "702ff87a-5632-4003-9d72-c3c92703df2c"
   },
   "outputs": [
    {
     "data": {
      "text/plain": [
       "4"
      ]
     },
     "execution_count": 139,
     "metadata": {
      "tags": []
     },
     "output_type": "execute_result"
    }
   ],
   "source": [
    "len(notas_do_aluno)"
   ]
  },
  {
   "cell_type": "markdown",
   "metadata": {
    "id": "Upetw6XuGWs6"
   },
   "source": [
    "##Import:"
   ]
  },
  {
   "cell_type": "code",
   "execution_count": null,
   "metadata": {
    "id": "gLk0m8OuSWp-"
   },
   "outputs": [],
   "source": [
    "from random import randrange, seed"
   ]
  },
  {
   "cell_type": "code",
   "execution_count": null,
   "metadata": {
    "id": "_womBYQMHL79"
   },
   "outputs": [],
   "source": [
    "seed(11)"
   ]
  },
  {
   "cell_type": "code",
   "execution_count": null,
   "metadata": {
    "colab": {
     "base_uri": "https://localhost:8080/"
    },
    "executionInfo": {
     "elapsed": 362,
     "status": "ok",
     "timestamp": 1622348052156,
     "user": {
      "displayName": "Jefferson Oliveira",
      "photoUrl": "https://lh3.googleusercontent.com/a-/AOh14GiUoyrdIiH6MSOFFXrwM38RWKGdzLhmgbB6CNj2R00=s64",
      "userId": "17886330234675100730"
     },
     "user_tz": 180
    },
    "id": "dT0Ch8yXHb-t",
    "outputId": "6a4fed54-e708-4b07-ebda-4d6cc88adcdc"
   },
   "outputs": [
    {
     "data": {
      "text/plain": [
       "method"
      ]
     },
     "execution_count": 135,
     "metadata": {
      "tags": []
     },
     "output_type": "execute_result"
    }
   ],
   "source": [
    "randrange(0,11)\n",
    "type(randrange)"
   ]
  },
  {
   "cell_type": "code",
   "execution_count": null,
   "metadata": {
    "colab": {
     "base_uri": "https://localhost:8080/"
    },
    "executionInfo": {
     "elapsed": 514,
     "status": "ok",
     "timestamp": 1622347663426,
     "user": {
      "displayName": "Jefferson Oliveira",
      "photoUrl": "https://lh3.googleusercontent.com/a-/AOh14GiUoyrdIiH6MSOFFXrwM38RWKGdzLhmgbB6CNj2R00=s64",
      "userId": "17886330234675100730"
     },
     "user_tz": 180
    },
    "id": "1p7Uoj75Gk3a",
    "outputId": "d1acd6b1-f3e5-4031-9cb3-29483d199561"
   },
   "outputs": [
    {
     "data": {
      "text/plain": [
       "[1, 8, 10, 0, 9, 6, 7, 10]"
      ]
     },
     "execution_count": 125,
     "metadata": {
      "tags": []
     },
     "output_type": "execute_result"
    }
   ],
   "source": [
    "notas_matematica =[]\n",
    "\n",
    "for notas in range(8):\n",
    "  notas_matematica.append(randrange(0,11))\n",
    "\n",
    "notas_matematica"
   ]
  },
  {
   "cell_type": "markdown",
   "metadata": {
    "id": "LV9zQCbLJwp4"
   },
   "source": [
    "##Realizando exercício e testando variações de abordagem."
   ]
  },
  {
   "cell_type": "code",
   "execution_count": null,
   "metadata": {
    "colab": {
     "base_uri": "https://localhost:8080/"
    },
    "executionInfo": {
     "elapsed": 517,
     "status": "ok",
     "timestamp": 1622347666588,
     "user": {
      "displayName": "Jefferson Oliveira",
      "photoUrl": "https://lh3.googleusercontent.com/a-/AOh14GiUoyrdIiH6MSOFFXrwM38RWKGdzLhmgbB6CNj2R00=s64",
      "userId": "17886330234675100730"
     },
     "user_tz": 180
    },
    "id": "X8VMzQwRHFli",
    "outputId": "3f2bcc61-be99-464a-db04-116db96919ff"
   },
   "outputs": [
    {
     "name": "stdout",
     "output_type": "stream",
     "text": [
      "O 0 elemento da lista é int e é do tipo <class 'str'>\n",
      "O 1 elemento da lista é False e é do tipo <class 'bool'>\n",
      "O 2 elemento da lista é True e é do tipo <class 'bool'>\n",
      "O 3 elemento da lista é 18 e é do tipo <class 'str'>\n",
      "O 4 elemento da lista é 2020 e é do tipo <class 'int'>\n"
     ]
    }
   ],
   "source": [
    "lista = ['int', False, True, '18', 2020]\n",
    "index=0\n",
    "for i in lista:\n",
    "  print(\"O {} elemento da lista é {} e é do tipo {}\".format(index,i, type(i)))\n",
    "  index+=1"
   ]
  },
  {
   "cell_type": "markdown",
   "metadata": {
    "id": "hUBGuD7GKvDX"
   },
   "source": [
    "Nesta aula:\n",
    "\n",
    "Vimos que é possível armazenar elementos de diferentes tipos em uma lista;\n",
    "\n",
    "Aprendemos como importar o método randrange para gerar números inteiros aleatórios entre 0 e 10."
   ]
  },
  {
   "cell_type": "markdown",
   "metadata": {
    "id": "0dIvUtnlKy0H"
   },
   "source": [
    "##Importando libs para plot de gráficos"
   ]
  },
  {
   "cell_type": "code",
   "execution_count": null,
   "metadata": {
    "id": "1iziGrwFIq3R"
   },
   "outputs": [],
   "source": [
    "import matplotlib.pyplot as plt"
   ]
  },
  {
   "cell_type": "code",
   "execution_count": null,
   "metadata": {
    "id": "N3sSjgfqORYz"
   },
   "outputs": [],
   "source": [
    "x = list(range(1,9))\n",
    "y = notas_matematica"
   ]
  },
  {
   "cell_type": "code",
   "execution_count": null,
   "metadata": {
    "colab": {
     "base_uri": "https://localhost:8080/",
     "height": 295
    },
    "executionInfo": {
     "elapsed": 433,
     "status": "ok",
     "timestamp": 1622347672037,
     "user": {
      "displayName": "Jefferson Oliveira",
      "photoUrl": "https://lh3.googleusercontent.com/a-/AOh14GiUoyrdIiH6MSOFFXrwM38RWKGdzLhmgbB6CNj2R00=s64",
      "userId": "17886330234675100730"
     },
     "user_tz": 180
    },
    "id": "CqOTL34cOU8K",
    "outputId": "bf6036c5-bf07-4762-d449-94c8658a9a2f"
   },
   "outputs": [
    {
     "data": {
      "image/png": "[encoded data removed]",
      "text/plain": [
       "<Figure size 432x288 with 1 Axes>"
      ]
     },
     "metadata": {
      "needs_background": "light",
      "tags": []
     },
     "output_type": "display_data"
    }
   ],
   "source": [
    "plt.plot(x, y, marker='o' )\n",
    "plt.title('Notas de Matemática')\n",
    "plt.xlabel('Provas')\n",
    "plt.ylabel('Notas')\n",
    "plt.show()"
   ]
  },
  {
   "cell_type": "code",
   "execution_count": null,
   "metadata": {
    "id": "I-PZH2lGO7Cy"
   },
   "outputs": [],
   "source": [
    "import matplotlib.pyplot as plt\n",
    "\n",
    "notas_matematica = ['Matemática',8,7,6,6,7,7,8,10]\n",
    "notas_portugues = ['Português',9,9,9,8,5,6,8,5]\n",
    "notas_geografia = ['Geografia',10,10,6,7,7,7,8,7]\n",
    "\n",
    "notas = [notas_matematica, notas_portugues, notas_geografia]"
   ]
  },
  {
   "cell_type": "code",
   "execution_count": null,
   "metadata": {
    "colab": {
     "base_uri": "https://localhost:8080/",
     "height": 851
    },
    "executionInfo": {
     "elapsed": 1118,
     "status": "ok",
     "timestamp": 1622347684104,
     "user": {
      "displayName": "Jefferson Oliveira",
      "photoUrl": "https://lh3.googleusercontent.com/a-/AOh14GiUoyrdIiH6MSOFFXrwM38RWKGdzLhmgbB6CNj2R00=s64",
      "userId": "17886330234675100730"
     },
     "user_tz": 180
    },
    "id": "UsQiUTYUUftD",
    "outputId": "18b7fb45-26dc-4f7b-ddd8-b3c1187edb30"
   },
   "outputs": [
    {
     "data": {
      "image/png": "[encoded data removed]",
      "text/plain": [
       "<Figure size 432x288 with 1 Axes>"
      ]
     },
     "metadata": {
      "needs_background": "light",
      "tags": []
     },
     "output_type": "display_data"
    },
    {
     "data": {
      "image/png": "[encoded data removed]",
      "text/plain": [
       "<Figure size 432x288 with 1 Axes>"
      ]
     },
     "metadata": {
      "needs_background": "light",
      "tags": []
     },
     "output_type": "display_data"
    },
    {
     "data": {
      "image/png": "[encoded data removed]",
      "text/plain": [
       "<Figure size 432x288 with 1 Axes>"
      ]
     },
     "metadata": {
      "needs_background": "light",
      "tags": []
     },
     "output_type": "display_data"
    }
   ],
   "source": [
    "for nota in notas:\n",
    "  x = list(range(1,9))\n",
    "  y = nota[1:]\n",
    "  plt.plot(x,y, marker='o')\n",
    "  plt.title(\"Notas de {}\".format(nota[0]))\n",
    "  plt.xlabel(\"Provas\")\n",
    "  plt.ylabel(\"Notas\")\n",
    "  plt.show()\n"
   ]
  },
  {
   "cell_type": "markdown",
   "metadata": {
    "id": "5NYcWnXbZM_Z"
   },
   "source": [
    "Nesta aula:\n",
    "\n",
    "Aprendemos como importar a \"Matplotlib\" conforme a convenção como \"plt\";\n",
    "\n",
    "Vimos que é possível criar listas a partir do código \"range\";\n",
    "\n",
    "Aprendemos como criar gráficos, definindo título, rótulos e marcador, além de ocultar outros detalhes indesejáveis."
   ]
  },
  {
   "cell_type": "markdown",
   "metadata": {
    "id": "xH1pclb_ZIrd"
   },
   "source": [
    "## Ideias para as próximas aulas:"
   ]
  },
  {
   "cell_type": "code",
   "execution_count": null,
   "metadata": {
    "colab": {
     "base_uri": "https://localhost:8080/",
     "height": 350
    },
    "executionInfo": {
     "elapsed": 499,
     "status": "ok",
     "timestamp": 1622347690435,
     "user": {
      "displayName": "Jefferson Oliveira",
      "photoUrl": "https://lh3.googleusercontent.com/a-/AOh14GiUoyrdIiH6MSOFFXrwM38RWKGdzLhmgbB6CNj2R00=s64",
      "userId": "17886330234675100730"
     },
     "user_tz": 180
    },
    "id": "y2X_vby4RfTy",
    "outputId": "e2d90113-08de-4131-bee0-47ce8f42ed11"
   },
   "outputs": [
    {
     "data": {
      "image/png": "[encoded data removed]",
      "text/plain": [
       "<Figure size 720x360 with 2 Axes>"
      ]
     },
     "metadata": {
      "needs_background": "light",
      "tags": []
     },
     "output_type": "display_data"
    }
   ],
   "source": [
    "fig, (ax1, ax2) = plt.subplots(1, 2, figsize=(10,5))\n",
    "\n",
    "# Dados para cada subplot\n",
    "ax1.bar([1,2,3],[3,4,5])\n",
    "ax2.barh([0.5,1,2.5],[0,1,2])\n",
    "\n",
    "ax1.set(title=\"Gráfico de Barras Verticais\", xlabel=\"Eixo x\", ylabel=\" Eixo y\")\n",
    "ax2.set(title=\"Gráfico de Barras Horizontais\", xlabel=\"Eixo x\", ylabel=\"Eixo y\")\n",
    "\n",
    "plt.show()"
   ]
  },
  {
   "cell_type": "code",
   "execution_count": null,
   "metadata": {
    "colab": {
     "base_uri": "https://localhost:8080/",
     "height": 350
    },
    "executionInfo": {
     "elapsed": 556,
     "status": "ok",
     "timestamp": 1622347693854,
     "user": {
      "displayName": "Jefferson Oliveira",
      "photoUrl": "https://lh3.googleusercontent.com/a-/AOh14GiUoyrdIiH6MSOFFXrwM38RWKGdzLhmgbB6CNj2R00=s64",
      "userId": "17886330234675100730"
     },
     "user_tz": 180
    },
    "id": "hyRNHgIsSn-8",
    "outputId": "506059f8-89cc-4fea-9641-8e67eb567992"
   },
   "outputs": [
    {
     "data": {
      "image/png": "[encoded data removed]",
      "text/plain": [
       "<Figure size 720x360 with 2 Axes>"
      ]
     },
     "metadata": {
      "needs_background": "light",
      "tags": []
     },
     "output_type": "display_data"
    }
   ],
   "source": [
    "fig, (ax1, ax2) = plt.subplots(1, 2, figsize=(10,5))\n",
    "\n",
    "ax1.bar(list(range(1,9)) , [8,7,6,6,7,7,8,10])\n",
    "ax2.bar(list(range(1,9)) , [9,9,9,8,5,6,8,5])\n",
    "\n",
    "ax1.set(title=\"Gráfico das Notas de Matemática\", xlabel=\"Provas\", ylabel=\"Notas\")\n",
    "ax2.set(title=\"Gráfico das Notas de Português\", xlabel=\"Provas\", ylabel=\"Notas\")\n",
    "\n",
    "plt.show()"
   ]
  },
  {
   "cell_type": "code",
   "execution_count": null,
   "metadata": {
    "colab": {
     "base_uri": "https://localhost:8080/",
     "height": 596
    },
    "executionInfo": {
     "elapsed": 23,
     "status": "ok",
     "timestamp": 1622347698029,
     "user": {
      "displayName": "Jefferson Oliveira",
      "photoUrl": "https://lh3.googleusercontent.com/a-/AOh14GiUoyrdIiH6MSOFFXrwM38RWKGdzLhmgbB6CNj2R00=s64",
      "userId": "17886330234675100730"
     },
     "user_tz": 180
    },
    "id": "_ZIuZzKNVTVm",
    "outputId": "62623a81-9f9e-4ddf-e1b6-aa88644f325d"
   },
   "outputs": [
    {
     "data": {
      "image/png": "[encoded data removed]",
      "text/plain": [
       "<Figure size 1224x720 with 4 Axes>"
      ]
     },
     "metadata": {
      "needs_background": "light",
      "tags": []
     },
     "output_type": "display_data"
    }
   ],
   "source": [
    "fig, (ax1, ax2) = plt.subplots(2, 2, figsize=(17,10))"
   ]
  }
 ],
 "metadata": {
  "colab": {
   "collapsed_sections": [
    "e6Qxe5shfGpT",
    "LSAekw7l_OiS",
    "pGHbGnc7BDUv",
    "tFwRJ-lABIM-",
    "KT-83NsSKe7E",
    "y7zjRb9XMmbr",
    "Xck2LOAbON3H",
    "fipLM9B4QQLm",
    "ksAiqFilPTBf",
    "zbt7UbdJQR_6",
    "Upetw6XuGWs6",
    "LV9zQCbLJwp4",
    "0dIvUtnlKy0H",
    "xH1pclb_ZIrd"
   ],
   "name": "Desenvolvido_nas_Aulas.ipynb",
   "provenance": []
  },
  "kernelspec": {
   "display_name": "Python 3 (ipykernel)",
   "language": "python",
   "name": "python3"
  },
  "language_info": {
   "codemirror_mode": {
    "name": "ipython",
    "version": 3
   },
   "file_extension": ".py",
   "mimetype": "text/x-python",
   "name": "python",
   "nbconvert_exporter": "python",
   "pygments_lexer": "ipython3",
   "version": "3.8.11"
  }
 },
 "nbformat": 4,
 "nbformat_minor": 1
}
